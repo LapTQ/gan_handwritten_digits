{
 "cells": [
  {
   "cell_type": "markdown",
   "source": [
    "[Colab](https://colab.research.google.com/github/LapTQ/gan_handwritten_digits/blob/main/shell.ipynb)"
   ],
   "metadata": {
    "collapsed": false,
    "pycharm": {
     "name": "#%% md\n"
    }
   }
  },
  {
   "cell_type": "code",
   "execution_count": null,
   "outputs": [],
   "source": [
    "!git clone https://github.com/LapTQ/gan_handwritten_digits.git"
   ],
   "metadata": {
    "collapsed": false,
    "pycharm": {
     "name": "#%%\n"
    }
   }
  },
  {
   "cell_type": "code",
   "execution_count": 12,
   "metadata": {
    "collapsed": true
   },
   "outputs": [
    {
     "name": "stdout",
     "output_type": "stream",
     "text": [
      "2022-04-06 11:16:23.879671: W tensorflow/stream_executor/platform/default/dso_loader.cc:64] Could not load dynamic library 'libcudart.so.11.0'; dlerror: libcudart.so.11.0: cannot open shared object file: No such file or directory\r\n",
      "2022-04-06 11:16:23.879718: I tensorflow/stream_executor/cuda/cudart_stub.cc:29] Ignore above cudart dlerror if you do not have a GPU set up on your machine.\r\n",
      "/usr/lib/python3/dist-packages/requests/__init__.py:89: RequestsDependencyWarning: urllib3 (1.26.7) or chardet (3.0.4) doesn't match a supported version!\r\n",
      "  warnings.warn(\"urllib3 ({}) or chardet ({}) doesn't match a supported \"\r\n",
      "2022-04-06 11:16:28.114612: W tensorflow/stream_executor/platform/default/dso_loader.cc:64] Could not load dynamic library 'libcuda.so.1'; dlerror: libcuda.so.1: cannot open shared object file: No such file or directory\r\n",
      "2022-04-06 11:16:28.114659: W tensorflow/stream_executor/cuda/cuda_driver.cc:269] failed call to cuInit: UNKNOWN ERROR (303)\r\n",
      "2022-04-06 11:16:28.114694: I tensorflow/stream_executor/cuda/cuda_diagnostics.cc:156] kernel driver does not appear to be running on this host (tran-Aspire-4752): /proc/driver/nvidia/version does not exist\r\n",
      "100%|█████████████████████████████████████████████| 2/2 [00:00<00:00,  3.06it/s]\r\n",
      "100%|█████████████████████████████████████████████| 2/2 [00:00<00:00,  4.35it/s]\r\n",
      "100%|█████████████████████████████████████████████| 2/2 [00:00<00:00,  4.28it/s]\r\n",
      "100%|█████████████████████████████████████████████| 2/2 [00:00<00:00,  4.34it/s]\r\n",
      "2022-04-06 11:16:31.387915: W tensorflow/python/util/util.cc:348] Sets are not currently considered sequences, but this may change in the future, so consider avoiding using them.\r\n"
     ]
    }
   ],
   "source": [
    "!python3 gan_handwritten_digits/train.py --epochs 40 --batch-size 128 --size-in-batch 150 --display-step 1 --learning-rate 0.001"
   ]
  },
  {
   "cell_type": "code",
   "execution_count": 7,
   "outputs": [
    {
     "name": "stdout",
     "output_type": "stream",
     "text": [
      "python3: can't open file 'gan_handwritten_digits/train.py': [Errno 2] No such file or directory\r\n"
     ]
    }
   ],
   "source": [
    "!python3 gan_handwritten_digits/train.py --epochs 40 --batch-size 128 --size-in-batch 50"
   ],
   "metadata": {
    "collapsed": false,
    "pycharm": {
     "name": "#%%\n"
    }
   }
  }
 ],
 "metadata": {
  "kernelspec": {
   "display_name": "Python 3",
   "language": "python",
   "name": "python3"
  },
  "language_info": {
   "codemirror_mode": {
    "name": "ipython",
    "version": 2
   },
   "file_extension": ".py",
   "mimetype": "text/x-python",
   "name": "python",
   "nbconvert_exporter": "python",
   "pygments_lexer": "ipython2",
   "version": "2.7.6"
  }
 },
 "nbformat": 4,
 "nbformat_minor": 0
}