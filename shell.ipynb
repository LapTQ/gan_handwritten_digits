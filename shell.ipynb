{
 "cells": [
  {
   "cell_type": "markdown",
   "source": [
    "[Colab](https://colab.research.google.com/github/LapTQ/gan_handwritten_digits/blob/main/shell.ipynb)"
   ],
   "metadata": {
    "collapsed": false,
    "pycharm": {
     "name": "#%% md\n"
    }
   }
  },
  {
   "cell_type": "code",
   "execution_count": null,
   "outputs": [],
   "source": [
    "!git clone https://github.com/LapTQ/gan_handwritten_digits.git"
   ],
   "metadata": {
    "collapsed": false,
    "pycharm": {
     "name": "#%%\n"
    }
   }
  },
  {
   "cell_type": "code",
   "execution_count": null,
   "metadata": {
    "collapsed": true,
    "pycharm": {
     "is_executing": true
    }
   },
   "outputs": [
    {
     "name": "stdout",
     "output_type": "stream",
     "text": [
      "2022-04-06 10:23:48.208192: W tensorflow/stream_executor/platform/default/dso_loader.cc:64] Could not load dynamic library 'libcudart.so.11.0'; dlerror: libcudart.so.11.0: cannot open shared object file: No such file or directory\r\n",
      "2022-04-06 10:23:48.208230: I tensorflow/stream_executor/cuda/cudart_stub.cc:29] Ignore above cudart dlerror if you do not have a GPU set up on your machine.\r\n",
      "/usr/lib/python3/dist-packages/requests/__init__.py:89: RequestsDependencyWarning: urllib3 (1.26.7) or chardet (3.0.4) doesn't match a supported version!\r\n",
      "  warnings.warn(\"urllib3 ({}) or chardet ({}) doesn't match a supported \"\r\n",
      "2022-04-06 10:23:51.667162: W tensorflow/stream_executor/platform/default/dso_loader.cc:64] Could not load dynamic library 'libcuda.so.1'; dlerror: libcuda.so.1: cannot open shared object file: No such file or directory\r\n",
      "2022-04-06 10:23:51.667224: W tensorflow/stream_executor/cuda/cuda_driver.cc:269] failed call to cuInit: UNKNOWN ERROR (303)\r\n",
      "2022-04-06 10:23:51.667273: I tensorflow/stream_executor/cuda/cuda_diagnostics.cc:156] kernel driver does not appear to be running on this host (tran-Aspire-4752): /proc/driver/nvidia/version does not exist\r\n",
      "100%|█████████████████████████████████████████| 100/100 [00:36<00:00,  2.73it/s]\r\n",
      "Figure(640x480)\r\n",
      "100%|█████████████████████████████████████████| 100/100 [00:48<00:00,  2.08it/s]\r\n",
      "100%|█████████████████████████████████████████| 100/100 [00:38<00:00,  2.59it/s]\r\n",
      "100%|█████████████████████████████████████████| 100/100 [00:41<00:00,  2.43it/s]\r\n",
      " 10%|████▏                                     | 10/100 [00:04<00:43,  2.08it/s]"
     ]
    }
   ],
   "source": [
    "!python3 train.py --epochs 40"
   ]
  },
  {
   "cell_type": "code",
   "execution_count": null,
   "outputs": [],
   "source": [
    "!python3 gan_handwritten_digits/train.py --epochs 6"
   ],
   "metadata": {
    "collapsed": false,
    "pycharm": {
     "name": "#%%\n"
    }
   }
  }
 ],
 "metadata": {
  "kernelspec": {
   "display_name": "Python 3",
   "language": "python",
   "name": "python3"
  },
  "language_info": {
   "codemirror_mode": {
    "name": "ipython",
    "version": 2
   },
   "file_extension": ".py",
   "mimetype": "text/x-python",
   "name": "python",
   "nbconvert_exporter": "python",
   "pygments_lexer": "ipython2",
   "version": "2.7.6"
  }
 },
 "nbformat": 4,
 "nbformat_minor": 0
}